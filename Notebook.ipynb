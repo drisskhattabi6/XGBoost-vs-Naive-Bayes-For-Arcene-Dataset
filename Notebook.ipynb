{
 "cells": [
  {
   "cell_type": "markdown",
   "id": "208b1599",
   "metadata": {},
   "source": [
    "# Implement of XGBoost algorithm from scratch & apply it for \"arcene_datasets\""
   ]
  },
  {
   "cell_type": "code",
   "execution_count": 1,
   "id": "9634038a",
   "metadata": {},
   "outputs": [],
   "source": [
    "import csv\n",
    "import numpy as np\n",
    "import pandas as pd\n",
    "import matplotlib.pyplot as plt\n",
    "import seaborn as sns\n",
    "from sklearn.metrics import confusion_matrix, f1_score, accuracy_score, classification_report\n",
    "from sklearn.model_selection import train_test_split\n",
    "import xgboost as xgb\n",
    "\n",
    "import warnings\n",
    "warnings.filterwarnings(\"ignore\")\n",
    "# warnings.filterwarnings(\"default\")"
   ]
  },
  {
   "cell_type": "markdown",
   "id": "e744d852",
   "metadata": {},
   "source": [
    "## Data Pre-Processing:"
   ]
  },
  {
   "cell_type": "markdown",
   "id": "0e85b352",
   "metadata": {},
   "source": [
    "This code seems to convert two textual data arcene files (characteristics and labels) to CSV files to facilitate their use, in automatic learning tasks, by organizing them in distinct columns with appropriate headers, the columns are named feature_1 Until feature_1000, and the label columns called Labels."
   ]
  },
  {
   "cell_type": "code",
   "execution_count": 3,
   "id": "932ff140",
   "metadata": {},
   "outputs": [],
   "source": [
    "with open('arcene_datasets/arcene_train.data', 'r') as data, open('csv_arcene_train.csv' ,'w', newline='') as outfile:\n",
    "    rows = data.readlines()\n",
    "    writer = csv.writer(outfile)\n",
    "    # Write a header line in the CSV file, creating column names for the 10,000 characteristics, called 'feature_1', 'feature_2', ..., 'feature_10000'.\n",
    "    writer.writerow(['feature_{}'.format(i+1) for i in range(0, 10000)]) \n",
    "    \n",
    "    # Divide each line into individual values ​​using space as a separator, converts them into whole, and stores them in a list called values.\n",
    "    for row in rows:\n",
    "        values = [int(val) for val in row.strip().split()] \n",
    "\n",
    "        writer.writerow(values)\n",
    "        \n",
    "# For the labels column\n",
    "with open('arcene_datasets/arcene_train.labelS', 'r') as labels, open('csv_arcene_train_labels.csv' ,'w', newline='') as outfile:\n",
    "    rows = labels.readlines()\n",
    "    writer = csv.writer(outfile)\n",
    "    \n",
    "    writer.writerow(['labels'])\n",
    "    \n",
    "    for row in rows:\n",
    "        values = [int(val) for val in row.strip().split()]\n",
    "        writer.writerow(values)"
   ]
  },
  {
   "cell_type": "markdown",
   "id": "aefb1e51",
   "metadata": {},
   "source": [
    "We do the same for the Arcene_valid Dataset which will be our test Dataset."
   ]
  },
  {
   "cell_type": "code",
   "execution_count": 4,
   "id": "af8918fc",
   "metadata": {},
   "outputs": [],
   "source": [
    "with open('arcene_datasets/arcene_valid.data', 'r') as data, open('csv_arcene_valid.csv' ,'w', newline='') as outfile:\n",
    "    rows = data.readlines()\n",
    "    writer = csv.writer(outfile)\n",
    "    \n",
    "    writer.writerow(['feature_{}'.format(i+1) for i in range(0, 10000)])\n",
    "    \n",
    "    for row in rows:\n",
    "        values = [int(val) for val in row.strip().split()]\n",
    "        writer.writerow(values)\n",
    "        \n",
    "# for the labels\n",
    "with open('arcene_datasets/arcene_valid.labelS', 'r') as labels, open('csv_arcene_valid_labels.csv' ,'w', newline='') as outfile:\n",
    "    rows = labels.readlines()\n",
    "    writer = csv.writer(outfile)\n",
    "    \n",
    "    writer.writerow(['labels'])\n",
    "    \n",
    "    for row in rows:\n",
    "        values = [int(val) for val in row.strip().split()]\n",
    "        writer.writerow(values)"
   ]
  },
  {
   "cell_type": "code",
   "execution_count": 5,
   "id": "fff3d611",
   "metadata": {},
   "outputs": [],
   "source": [
    "test_features = pd.read_csv('csv_arcene_valid.csv') # load test attributes.\n",
    "test_labels = pd.read_csv('csv_arcene_valid_labels.csv') # Loads the columns of testing classes.\n",
    "train_features = pd.read_csv('csv_arcene_train.csv') # charge training attributes.\n",
    "train_labels = pd.read_csv('csv_arcene_train_labels.csv') # Loads the columns of testing classes."
   ]
  },
  {
   "cell_type": "code",
   "execution_count": 6,
   "id": "aa6056ad",
   "metadata": {},
   "outputs": [],
   "source": [
    "# Replace all the occurrences of the value -1 by 0 in the label column\n",
    "test_labels = test_labels.replace(-1, 0)\n",
    "train_labels = train_labels.replace(-1, 0)"
   ]
  },
  {
   "cell_type": "markdown",
   "id": "963fe622",
   "metadata": {},
   "source": [
    "This method is used to simplify dataset manipulation. This operation is often used in classification problems where labels can be coded differently."
   ]
  },
  {
   "cell_type": "code",
   "execution_count": 7,
   "id": "ab54f7f6",
   "metadata": {},
   "outputs": [],
   "source": [
    "train_dataset = pd.concat([train_features, train_labels], axis=1) # Merge the characteristics (features) of training with their label.\n",
    "test_dataset = pd.concat([test_features, test_labels], axis=1) # Merge the characteristics (features) of testing with their label."
   ]
  },
  {
   "cell_type": "code",
   "execution_count": 8,
   "id": "8fd68499",
   "metadata": {},
   "outputs": [],
   "source": [
    "# Save the result in a CSV file named arcene_tarin_dataset.csv\n",
    "train_dataset.to_csv('arcene_train_dataset.csv', index=False)\n",
    "\n",
    "# Save the result in a CSV file named arcene_test_dataset.csv\n",
    "test_dataset.to_csv('arcene_test_dataset.csv', index=False) "
   ]
  },
  {
   "cell_type": "code",
   "execution_count": 10,
   "id": "60083fcb",
   "metadata": {},
   "outputs": [
    {
     "data": {
      "text/plain": [
       "<Axes: >"
      ]
     },
     "execution_count": 10,
     "metadata": {},
     "output_type": "execute_result"
    },
    {
     "data": {
      "image/png": "[encoded data removed]",
      "text/plain": [
       "<Figure size 640x480 with 1 Axes>"
      ]
     },
     "metadata": {},
     "output_type": "display_data"
    }
   ],
   "source": [
    "train_dataset['labels'].hist() # Create a histogram of the values ​​present in the labels column"
   ]
  },
  {
   "cell_type": "code",
   "execution_count": 11,
   "id": "258ea9a9",
   "metadata": {},
   "outputs": [
    {
     "name": "stdout",
     "output_type": "stream",
     "text": [
      "Les cas tester Positive (+1): 44\n",
      "Les cas tester Negative (0): 56\n"
     ]
    }
   ],
   "source": [
    "neg_ex = train_dataset[train_dataset['labels'] == 0]\n",
    "pos_ex = train_dataset[train_dataset['labels'] == 1]\n",
    "\n",
    "print(f\"Les cas tester Positive (+1): {len(pos_ex)}\")\n",
    "print(f\"Les cas tester Negative (0): {len(neg_ex)}\")"
   ]
  },
  {
   "cell_type": "code",
   "execution_count": 18,
   "id": "db2d4f6a",
   "metadata": {},
   "outputs": [
    {
     "data": {
      "text/html": [
       "<div>\n",
       "<style scoped>\n",
       "    .dataframe tbody tr th:only-of-type {\n",
       "        vertical-align: middle;\n",
       "    }\n",
       "\n",
       "    .dataframe tbody tr th {\n",
       "        vertical-align: top;\n",
       "    }\n",
       "\n",
       "    .dataframe thead th {\n",
       "        text-align: right;\n",
       "    }\n",
       "</style>\n",
       "<table border=\"1\" class=\"dataframe\">\n",
       "  <thead>\n",
       "    <tr style=\"text-align: right;\">\n",
       "      <th></th>\n",
       "      <th>feature_1</th>\n",
       "      <th>feature_2</th>\n",
       "      <th>feature_3</th>\n",
       "      <th>feature_4</th>\n",
       "      <th>feature_5</th>\n",
       "      <th>feature_6</th>\n",
       "      <th>feature_7</th>\n",
       "      <th>feature_8</th>\n",
       "      <th>feature_9</th>\n",
       "      <th>feature_10</th>\n",
       "      <th>...</th>\n",
       "      <th>feature_9992</th>\n",
       "      <th>feature_9993</th>\n",
       "      <th>feature_9994</th>\n",
       "      <th>feature_9995</th>\n",
       "      <th>feature_9996</th>\n",
       "      <th>feature_9997</th>\n",
       "      <th>feature_9998</th>\n",
       "      <th>feature_9999</th>\n",
       "      <th>feature_10000</th>\n",
       "      <th>labels</th>\n",
       "    </tr>\n",
       "  </thead>\n",
       "  <tbody>\n",
       "    <tr>\n",
       "      <th>0</th>\n",
       "      <td>0</td>\n",
       "      <td>71</td>\n",
       "      <td>0</td>\n",
       "      <td>95</td>\n",
       "      <td>0</td>\n",
       "      <td>538</td>\n",
       "      <td>404</td>\n",
       "      <td>20</td>\n",
       "      <td>0</td>\n",
       "      <td>0</td>\n",
       "      <td>...</td>\n",
       "      <td>570</td>\n",
       "      <td>86</td>\n",
       "      <td>0</td>\n",
       "      <td>36</td>\n",
       "      <td>0</td>\n",
       "      <td>80</td>\n",
       "      <td>0</td>\n",
       "      <td>0</td>\n",
       "      <td>524</td>\n",
       "      <td>1</td>\n",
       "    </tr>\n",
       "    <tr>\n",
       "      <th>1</th>\n",
       "      <td>0</td>\n",
       "      <td>41</td>\n",
       "      <td>82</td>\n",
       "      <td>165</td>\n",
       "      <td>60</td>\n",
       "      <td>554</td>\n",
       "      <td>379</td>\n",
       "      <td>0</td>\n",
       "      <td>71</td>\n",
       "      <td>0</td>\n",
       "      <td>...</td>\n",
       "      <td>605</td>\n",
       "      <td>69</td>\n",
       "      <td>7</td>\n",
       "      <td>473</td>\n",
       "      <td>0</td>\n",
       "      <td>57</td>\n",
       "      <td>0</td>\n",
       "      <td>284</td>\n",
       "      <td>423</td>\n",
       "      <td>0</td>\n",
       "    </tr>\n",
       "    <tr>\n",
       "      <th>2</th>\n",
       "      <td>0</td>\n",
       "      <td>0</td>\n",
       "      <td>1</td>\n",
       "      <td>40</td>\n",
       "      <td>0</td>\n",
       "      <td>451</td>\n",
       "      <td>402</td>\n",
       "      <td>0</td>\n",
       "      <td>0</td>\n",
       "      <td>0</td>\n",
       "      <td>...</td>\n",
       "      <td>593</td>\n",
       "      <td>28</td>\n",
       "      <td>0</td>\n",
       "      <td>24</td>\n",
       "      <td>0</td>\n",
       "      <td>90</td>\n",
       "      <td>0</td>\n",
       "      <td>34</td>\n",
       "      <td>508</td>\n",
       "      <td>1</td>\n",
       "    </tr>\n",
       "    <tr>\n",
       "      <th>3</th>\n",
       "      <td>0</td>\n",
       "      <td>56</td>\n",
       "      <td>44</td>\n",
       "      <td>275</td>\n",
       "      <td>14</td>\n",
       "      <td>511</td>\n",
       "      <td>470</td>\n",
       "      <td>0</td>\n",
       "      <td>0</td>\n",
       "      <td>0</td>\n",
       "      <td>...</td>\n",
       "      <td>600</td>\n",
       "      <td>0</td>\n",
       "      <td>26</td>\n",
       "      <td>86</td>\n",
       "      <td>0</td>\n",
       "      <td>102</td>\n",
       "      <td>0</td>\n",
       "      <td>0</td>\n",
       "      <td>469</td>\n",
       "      <td>1</td>\n",
       "    </tr>\n",
       "    <tr>\n",
       "      <th>4</th>\n",
       "      <td>105</td>\n",
       "      <td>0</td>\n",
       "      <td>141</td>\n",
       "      <td>348</td>\n",
       "      <td>0</td>\n",
       "      <td>268</td>\n",
       "      <td>329</td>\n",
       "      <td>0</td>\n",
       "      <td>0</td>\n",
       "      <td>1</td>\n",
       "      <td>...</td>\n",
       "      <td>0</td>\n",
       "      <td>0</td>\n",
       "      <td>0</td>\n",
       "      <td>0</td>\n",
       "      <td>190</td>\n",
       "      <td>301</td>\n",
       "      <td>0</td>\n",
       "      <td>0</td>\n",
       "      <td>354</td>\n",
       "      <td>0</td>\n",
       "    </tr>\n",
       "  </tbody>\n",
       "</table>\n",
       "<p>5 rows × 10001 columns</p>\n",
       "</div>"
      ],
      "text/plain": [
       "   feature_1  feature_2  feature_3  feature_4  feature_5  feature_6  \\\n",
       "0          0         71          0         95          0        538   \n",
       "1          0         41         82        165         60        554   \n",
       "2          0          0          1         40          0        451   \n",
       "3          0         56         44        275         14        511   \n",
       "4        105          0        141        348          0        268   \n",
       "\n",
       "   feature_7  feature_8  feature_9  feature_10  ...  feature_9992  \\\n",
       "0        404         20          0           0  ...           570   \n",
       "1        379          0         71           0  ...           605   \n",
       "2        402          0          0           0  ...           593   \n",
       "3        470          0          0           0  ...           600   \n",
       "4        329          0          0           1  ...             0   \n",
       "\n",
       "   feature_9993  feature_9994  feature_9995  feature_9996  feature_9997  \\\n",
       "0            86             0            36             0            80   \n",
       "1            69             7           473             0            57   \n",
       "2            28             0            24             0            90   \n",
       "3             0            26            86             0           102   \n",
       "4             0             0             0           190           301   \n",
       "\n",
       "   feature_9998  feature_9999  feature_10000  labels  \n",
       "0             0             0            524       1  \n",
       "1             0           284            423       0  \n",
       "2             0            34            508       1  \n",
       "3             0             0            469       1  \n",
       "4             0             0            354       0  \n",
       "\n",
       "[5 rows x 10001 columns]"
      ]
     },
     "execution_count": 18,
     "metadata": {},
     "output_type": "execute_result"
    }
   ],
   "source": [
    "train_dataset.head()"
   ]
  },
  {
   "cell_type": "code",
   "execution_count": 20,
   "id": "0fb66caa",
   "metadata": {},
   "outputs": [
    {
     "data": {
      "text/plain": [
       "(100, 10001)"
      ]
     },
     "execution_count": 20,
     "metadata": {},
     "output_type": "execute_result"
    }
   ],
   "source": [
    "train_dataset.shape"
   ]
  },
  {
   "cell_type": "markdown",
   "id": "a4bca528",
   "metadata": {},
   "source": [
    "## Data minimization:\n",
    "\n",
    "Data minimization, or \"feature selection\" in English, is a frequently used practice in the most important or most relevant characteristics (features) for a model.\n",
    "\n",
    "Our data set contains 10,000 attributes, which is too much and which contain values ​​that do not give important results. Our data set therefore requires a selection of features and to achieve this, we suggest 2 techniques:\n",
    "\n",
    "#### 1-Elimination of columns which only have 0 or which have more than 65 zero:"
   ]
  },
  {
   "cell_type": "code",
   "execution_count": 21,
   "id": "f9a5180b",
   "metadata": {},
   "outputs": [],
   "source": [
    "columns_to_drop = []\n",
    "for column in train_dataset.columns[:-1]:\n",
    "    zero = 0\n",
    "    for x in train_dataset[column]:\n",
    "        if x == 0:\n",
    "            zero +=1\n",
    "    if zero >= 65:\n",
    "        columns_to_drop.append(column)"
   ]
  },
  {
   "cell_type": "code",
   "execution_count": 22,
   "id": "deaf0b35",
   "metadata": {},
   "outputs": [
    {
     "data": {
      "text/plain": [
       "2944"
      ]
     },
     "execution_count": 22,
     "metadata": {},
     "output_type": "execute_result"
    }
   ],
   "source": [
    "len(columns_to_drop)"
   ]
  },
  {
   "cell_type": "code",
   "execution_count": 23,
   "id": "27c53c83",
   "metadata": {},
   "outputs": [],
   "source": [
    "train_dataset = train_dataset.drop(columns=columns_to_drop) \n",
    "test_dataset = test_dataset.drop(columns=columns_to_drop)"
   ]
  },
  {
   "cell_type": "code",
   "execution_count": 102,
   "id": "96388fd2",
   "metadata": {},
   "outputs": [
    {
     "data": {
      "text/plain": [
       "((100, 2220), (100, 2220))"
      ]
     },
     "execution_count": 102,
     "metadata": {},
     "output_type": "execute_result"
    }
   ],
   "source": [
    "train_dataset.shape, test_dataset.shape"
   ]
  },
  {
   "cell_type": "markdown",
   "id": "82b32291",
   "metadata": {},
   "source": [
    "Well, we have reduced our dataset to 2220 columns.\n",
    "Now let's move on to the second method.\n",
    "\n",
    "#### 2-Minimization by Correlation Calculation\n",
    "\n",
    "Is a common method to reduce the number of features in a dataset. Correlation measures the relationship and independence between two variables."
   ]
  },
  {
   "cell_type": "code",
   "execution_count": 29,
   "id": "083dd325",
   "metadata": {},
   "outputs": [],
   "source": [
    "# Initialization of the correlation matrix\n",
    "correlation_matrix = train_dataset.iloc[:,:-1].corr()"
   ]
  },
  {
   "cell_type": "code",
   "execution_count": 30,
   "id": "aaec4e0b",
   "metadata": {},
   "outputs": [],
   "source": [
    "# Set correlation threshold\n",
    "threshold = 0.9\n",
    "\n",
    "# Find highly correlated feature pairs\n",
    "paires_corr = set()\n",
    "for i in range(len(correlation_matrix.columns)):\n",
    "    for j in range(i):\n",
    "        if abs(correlation_matrix.iloc[i, j]) > threshold:\n",
    "            nom_colonne_i = correlation_matrix.columns[i]\n",
    "            nom_colonne_j = correlation_matrix.columns[j]\n",
    "            paires_corr.add((nom_colonne_i, nom_colonne_j))\n",
    "\n",
    "# Remove one column from each pair of highly correlated featurescolonnes_a_supprimer = set()\n",
    "for paire in paires_corr:\n",
    "    col1, col2 = paire\n",
    "    # Delete one of the columns\n",
    "    colonnes_a_supprimer.add(col1)\n",
    "\n",
    "# Delete identified columns\n",
    "train_df_filtre = train_dataset.drop(columns=colonnes_a_supprimer)\n",
    "test_df_filtre = test_dataset.drop(columns=colonnes_a_supprimer)"
   ]
  },
  {
   "cell_type": "code",
   "execution_count": 33,
   "id": "4318f0da",
   "metadata": {},
   "outputs": [
    {
     "data": {
      "text/plain": [
       "4837"
      ]
     },
     "execution_count": 33,
     "metadata": {},
     "output_type": "execute_result"
    }
   ],
   "source": [
    "len(colonnes_a_supprimer)"
   ]
  },
  {
   "cell_type": "code",
   "execution_count": 34,
   "id": "611f1523",
   "metadata": {},
   "outputs": [],
   "source": [
    "# save results\n",
    "train_dataset = train_df_filtre\n",
    "test_dataset = test_df_filtre"
   ]
  },
  {
   "cell_type": "code",
   "execution_count": 35,
   "id": "b857e889",
   "metadata": {},
   "outputs": [],
   "source": [
    "train_dataset.to_csv('tarin_dataset_minimiser.csv', index=False)\n",
    "test_dataset.to_csv('test_dataset_minimiser.csv', index=False)"
   ]
  },
  {
   "cell_type": "code",
   "execution_count": 36,
   "id": "9eda46a7",
   "metadata": {},
   "outputs": [
    {
     "data": {
      "text/html": [
       "<div>\n",
       "<style scoped>\n",
       "    .dataframe tbody tr th:only-of-type {\n",
       "        vertical-align: middle;\n",
       "    }\n",
       "\n",
       "    .dataframe tbody tr th {\n",
       "        vertical-align: top;\n",
       "    }\n",
       "\n",
       "    .dataframe thead th {\n",
       "        text-align: right;\n",
       "    }\n",
       "</style>\n",
       "<table border=\"1\" class=\"dataframe\">\n",
       "  <thead>\n",
       "    <tr style=\"text-align: right;\">\n",
       "      <th></th>\n",
       "      <th>feature_1</th>\n",
       "      <th>feature_2</th>\n",
       "      <th>feature_3</th>\n",
       "      <th>feature_4</th>\n",
       "      <th>feature_5</th>\n",
       "      <th>feature_6</th>\n",
       "      <th>feature_7</th>\n",
       "      <th>feature_9</th>\n",
       "      <th>feature_10</th>\n",
       "      <th>feature_11</th>\n",
       "      <th>...</th>\n",
       "      <th>feature_9946</th>\n",
       "      <th>feature_9951</th>\n",
       "      <th>feature_9953</th>\n",
       "      <th>feature_9967</th>\n",
       "      <th>feature_9968</th>\n",
       "      <th>feature_9976</th>\n",
       "      <th>feature_9988</th>\n",
       "      <th>feature_9993</th>\n",
       "      <th>feature_9999</th>\n",
       "      <th>labels</th>\n",
       "    </tr>\n",
       "  </thead>\n",
       "  <tbody>\n",
       "    <tr>\n",
       "      <th>0</th>\n",
       "      <td>0</td>\n",
       "      <td>71</td>\n",
       "      <td>0</td>\n",
       "      <td>95</td>\n",
       "      <td>0</td>\n",
       "      <td>538</td>\n",
       "      <td>404</td>\n",
       "      <td>0</td>\n",
       "      <td>0</td>\n",
       "      <td>0</td>\n",
       "      <td>...</td>\n",
       "      <td>0</td>\n",
       "      <td>59</td>\n",
       "      <td>0</td>\n",
       "      <td>162</td>\n",
       "      <td>54</td>\n",
       "      <td>0</td>\n",
       "      <td>0</td>\n",
       "      <td>86</td>\n",
       "      <td>0</td>\n",
       "      <td>1</td>\n",
       "    </tr>\n",
       "    <tr>\n",
       "      <th>1</th>\n",
       "      <td>0</td>\n",
       "      <td>41</td>\n",
       "      <td>82</td>\n",
       "      <td>165</td>\n",
       "      <td>60</td>\n",
       "      <td>554</td>\n",
       "      <td>379</td>\n",
       "      <td>71</td>\n",
       "      <td>0</td>\n",
       "      <td>0</td>\n",
       "      <td>...</td>\n",
       "      <td>0</td>\n",
       "      <td>110</td>\n",
       "      <td>36</td>\n",
       "      <td>19</td>\n",
       "      <td>96</td>\n",
       "      <td>0</td>\n",
       "      <td>63</td>\n",
       "      <td>69</td>\n",
       "      <td>284</td>\n",
       "      <td>0</td>\n",
       "    </tr>\n",
       "    <tr>\n",
       "      <th>2</th>\n",
       "      <td>0</td>\n",
       "      <td>0</td>\n",
       "      <td>1</td>\n",
       "      <td>40</td>\n",
       "      <td>0</td>\n",
       "      <td>451</td>\n",
       "      <td>402</td>\n",
       "      <td>0</td>\n",
       "      <td>0</td>\n",
       "      <td>0</td>\n",
       "      <td>...</td>\n",
       "      <td>0</td>\n",
       "      <td>277</td>\n",
       "      <td>0</td>\n",
       "      <td>0</td>\n",
       "      <td>23</td>\n",
       "      <td>0</td>\n",
       "      <td>14</td>\n",
       "      <td>28</td>\n",
       "      <td>34</td>\n",
       "      <td>1</td>\n",
       "    </tr>\n",
       "    <tr>\n",
       "      <th>3</th>\n",
       "      <td>0</td>\n",
       "      <td>56</td>\n",
       "      <td>44</td>\n",
       "      <td>275</td>\n",
       "      <td>14</td>\n",
       "      <td>511</td>\n",
       "      <td>470</td>\n",
       "      <td>0</td>\n",
       "      <td>0</td>\n",
       "      <td>0</td>\n",
       "      <td>...</td>\n",
       "      <td>0</td>\n",
       "      <td>0</td>\n",
       "      <td>0</td>\n",
       "      <td>54</td>\n",
       "      <td>12</td>\n",
       "      <td>0</td>\n",
       "      <td>26</td>\n",
       "      <td>0</td>\n",
       "      <td>0</td>\n",
       "      <td>1</td>\n",
       "    </tr>\n",
       "    <tr>\n",
       "      <th>4</th>\n",
       "      <td>105</td>\n",
       "      <td>0</td>\n",
       "      <td>141</td>\n",
       "      <td>348</td>\n",
       "      <td>0</td>\n",
       "      <td>268</td>\n",
       "      <td>329</td>\n",
       "      <td>0</td>\n",
       "      <td>1</td>\n",
       "      <td>0</td>\n",
       "      <td>...</td>\n",
       "      <td>0</td>\n",
       "      <td>0</td>\n",
       "      <td>11</td>\n",
       "      <td>0</td>\n",
       "      <td>83</td>\n",
       "      <td>93</td>\n",
       "      <td>1</td>\n",
       "      <td>0</td>\n",
       "      <td>0</td>\n",
       "      <td>0</td>\n",
       "    </tr>\n",
       "  </tbody>\n",
       "</table>\n",
       "<p>5 rows × 2220 columns</p>\n",
       "</div>"
      ],
      "text/plain": [
       "   feature_1  feature_2  feature_3  feature_4  feature_5  feature_6  \\\n",
       "0          0         71          0         95          0        538   \n",
       "1          0         41         82        165         60        554   \n",
       "2          0          0          1         40          0        451   \n",
       "3          0         56         44        275         14        511   \n",
       "4        105          0        141        348          0        268   \n",
       "\n",
       "   feature_7  feature_9  feature_10  feature_11  ...  feature_9946  \\\n",
       "0        404          0           0           0  ...             0   \n",
       "1        379         71           0           0  ...             0   \n",
       "2        402          0           0           0  ...             0   \n",
       "3        470          0           0           0  ...             0   \n",
       "4        329          0           1           0  ...             0   \n",
       "\n",
       "   feature_9951  feature_9953  feature_9967  feature_9968  feature_9976  \\\n",
       "0            59             0           162            54             0   \n",
       "1           110            36            19            96             0   \n",
       "2           277             0             0            23             0   \n",
       "3             0             0            54            12             0   \n",
       "4             0            11             0            83            93   \n",
       "\n",
       "   feature_9988  feature_9993  feature_9999  labels  \n",
       "0             0            86             0       1  \n",
       "1            63            69           284       0  \n",
       "2            14            28            34       1  \n",
       "3            26             0             0       1  \n",
       "4             1             0             0       0  \n",
       "\n",
       "[5 rows x 2220 columns]"
      ]
     },
     "execution_count": 36,
     "metadata": {},
     "output_type": "execute_result"
    }
   ],
   "source": [
    "train_dataset.head()"
   ]
  },
  {
   "cell_type": "code",
   "execution_count": 37,
   "id": "30a96478",
   "metadata": {},
   "outputs": [
    {
     "data": {
      "text/plain": [
       "(100, 2220)"
      ]
     },
     "execution_count": 37,
     "metadata": {},
     "output_type": "execute_result"
    }
   ],
   "source": [
    "train_dataset.shape"
   ]
  },
  {
   "cell_type": "markdown",
   "id": "fbc50389",
   "metadata": {},
   "source": [
    "Après le processus de minimisation, nous restent avec un ensemble de données filtré comportant 100 lignes et 2220 caractiristique.\n",
    "\n",
    "# Implémentation de modèle Gaussien de native bayes pour la classification:\n",
    "\n",
    "Le modèle naïf bayésien gaussien (Gaussian Naive Bayes en anglais) est une variante du classificateur naïf bayésien classique.\n",
    "Ce modèle est souvent utilisé pour des tâches de classification où les caractéristiques sont continues et peuvent être modélisées par une distribution gaussienne, bien que son hypothèse de caractéristiques indépendantes (d'où le terme \"naïf\") puisse ne pas toujours correspondre à la réalité dans des situations plus complexes.\n",
    "\n",
    "## Calcule de la priori P(Y=y) pour chaque class y de Y\n",
    "\n",
    "Calcule la probabilité a priori de chaque classe en comptant le nombre d'occurrences de chaque classe et en le divisant par la taille totale de l'ensemble de données."
   ]
  },
  {
   "cell_type": "code",
   "execution_count": 38,
   "id": "a229e960",
   "metadata": {},
   "outputs": [],
   "source": [
    "def calcule_priori(df, Y):\n",
    "    classes = sorted(list(df[Y].unique()))\n",
    "    priori = []\n",
    "    for i in classes:\n",
    "        priori.append(len(df[df[Y]==i])/len(df)) \n",
    "    return priori # Returns the list of prior probabilities for each class"
   ]
  },
  {
   "cell_type": "code",
   "execution_count": 39,
   "id": "8bc65a08",
   "metadata": {},
   "outputs": [
    {
     "data": {
      "text/plain": [
       "[0.56, 0.44]"
      ]
     },
     "execution_count": 39,
     "metadata": {},
     "output_type": "execute_result"
    }
   ],
   "source": [
    "calcule_priori(train_dataset, 'labels') # Displays the probability of each class for our arcene dataset"
   ]
  },
  {
   "cell_type": "markdown",
   "id": "4f5a225a",
   "metadata": {},
   "source": [
    "## Computes the likelihood P(X=x|Y=y) using the Gaussian distribution of the normal law\n",
    "\n",
    "\n",
    "This function is responsible for calculating the likelihood of a feature value for a given class in the context of the Gaussian Naïve Bayes classifier.\n",
    "The likelihood is calculated using the probability density formula of the Gaussian distribution for the value feat_val given the class label: ![image.png](attachment:image.png)\n",
    "With:\n",
    "\n",
    "x : The value for which we want to calculate the probability density.\n",
    "\n",
    "μ : The mean of the Gaussian distribution.\n",
    "\n",
    "σ : The standard deviation of the Gaussian distribution."
   ]
  },
  {
   "cell_type": "code",
   "execution_count": 40,
   "id": "47af13e3",
   "metadata": {},
   "outputs": [],
   "source": [
    "def calcule_vraisemblance(df, feat_name, feat_val, Y, label):\n",
    "    df_subset = df[df[Y]==label]\n",
    "\n",
    "    mean, std = df_subset[feat_name].mean(), df_subset[feat_name].std()\n",
    "\n",
    "    epsilon = 0.01\n",
    "    std_smoothed = std if std != 0 else epsilon\n",
    "\n",
    "    p_x_y = (1 / (np.sqrt(2 * np.pi) * std_smoothed)) * np.exp(-((feat_val - mean)**2 / (2 * std_smoothed**2)))\n",
    "\n",
    "    return p_x_y"
   ]
  },
  {
   "cell_type": "markdown",
   "id": "ed406d8c",
   "metadata": {},
   "source": [
    "## Compute P(X=x1|Y=y)P(X=x2|Y=y)...P(X=xn|Y=y) * P(Y=y) for all classes y and return the maximum\n",
    "\n",
    "This function uses the calculate_priori() and calculate_likelihood() functions to estimate the prior probabilities and conditional probabilities respectively, in order to predict the classes for the given examples."
   ]
  },
  {
   "cell_type": "code",
   "execution_count": 41,
   "id": "a6a7b42c",
   "metadata": {},
   "outputs": [],
   "source": [
    "def naive_bayes_gaussian(df, X, Y):\n",
    "    features = list(df.columns)[:-1]\n",
    "\n",
    "    priori = calcule_priori(df, Y)\n",
    "\n",
    "    Y_pred = []\n",
    "\n",
    "    for x in X:\n",
    "\n",
    "        labels = sorted(list(df[Y].unique()))\n",
    "        vraisemblance = [1]*len(labels)\n",
    "        for j in range(len(labels)):\n",
    "            for i in range(len(features)):\n",
    "                vraisemblance[j] *= calcule_vraisemblance(df, features[i], x[i], Y, labels[j])\n",
    "\n",
    "        post_prob = [1]*len(labels)\n",
    "        for j in range(len(labels)):\n",
    "            post_prob[j] = vraisemblance[j] * priori[j]\n",
    "\n",
    "        Y_pred.append(np.argmax(post_prob))\n",
    "\n",
    "    return np.array(Y_pred)"
   ]
  },
  {
   "cell_type": "markdown",
   "id": "694b53b5",
   "metadata": {},
   "source": [
    "### Testing the Gaussian model"
   ]
  },
  {
   "cell_type": "code",
   "execution_count": 97,
   "id": "378a8207",
   "metadata": {},
   "outputs": [],
   "source": [
    "train = train_dataset\n",
    "test = test_dataset\n",
    "\n",
    "X_test = test\n",
    "Y_test = test.iloc[:, -1:]"
   ]
  },
  {
   "cell_type": "code",
   "execution_count": 98,
   "id": "84d7c88f",
   "metadata": {},
   "outputs": [],
   "source": [
    "X_test = X_test.values\n",
    "Y_test = Y_test.values"
   ]
  },
  {
   "cell_type": "code",
   "execution_count": 99,
   "id": "294a6164",
   "metadata": {},
   "outputs": [],
   "source": [
    "Y_pred = naive_bayes_gaussian(train, X=X_test, Y=\"labels\")"
   ]
  },
  {
   "cell_type": "code",
   "execution_count": 100,
   "id": "cc366f2f",
   "metadata": {},
   "outputs": [
    {
     "name": "stdout",
     "output_type": "stream",
     "text": [
      "Accuracy: 0.56\n",
      "F1 Score: 0.0\n"
     ]
    },
    {
     "data": {
      "image/png": "[encoded data removed]",
      "text/plain": [
       "<Figure size 800x600 with 2 Axes>"
      ]
     },
     "metadata": {},
     "output_type": "display_data"
    }
   ],
   "source": [
    "accuracy = accuracy_score(Y_test, Y_pred)\n",
    "print(f\"Accuracy: {accuracy}\")\n",
    "\n",
    "# Afficher le f1_score\n",
    "f1 = f1_score(Y_test, Y_pred)\n",
    "print(f\"F1 Score: {f1}\")\n",
    "\n",
    "\n",
    "# tracer la matrice de confusion\n",
    "plt.figure(figsize=(8, 6))\n",
    "sns.heatmap(confusion_matrix(Y_test, Y_pred), annot=True, fmt='d', cmap='Blues', \n",
    "            xticklabels=['0', '+1'], \n",
    "            yticklabels=['0', '+1'])\n",
    "plt.xlabel('Étiquette prévue')\n",
    "plt.ylabel('True Label')\n",
    "plt.title('Confusion Matrix')\n",
    "plt.show()"
   ]
  },
  {
   "cell_type": "code",
   "execution_count": 101,
   "id": "45298689",
   "metadata": {},
   "outputs": [
    {
     "name": "stdout",
     "output_type": "stream",
     "text": [
      "              precision    recall  f1-score   support\n",
      "\n",
      "           0       0.56      1.00      0.72        56\n",
      "           1       0.00      0.00      0.00        44\n",
      "\n",
      "    accuracy                           0.56       100\n",
      "   macro avg       0.28      0.50      0.36       100\n",
      "weighted avg       0.31      0.56      0.40       100\n",
      "\n"
     ]
    }
   ],
   "source": [
    "print(classification_report(Y_test, Y_pred))"
   ]
  },
  {
   "cell_type": "markdown",
   "id": "b2e4d2fc",
   "metadata": {},
   "source": [
    "## Implémentation d'un modèle Gaussien pour une classification binaire en utilisant Python et la bibliothèque Sk-learn :"
   ]
  },
  {
   "cell_type": "code",
   "execution_count": 48,
   "id": "1ddabd66",
   "metadata": {},
   "outputs": [
    {
     "name": "stdout",
     "output_type": "stream",
     "text": [
      "Accuracy: 0.73\n",
      "F1 Score: 0.6197183098591549\n"
     ]
    },
    {
     "data": {
      "image/png": "[encoded data removed]",
      "text/plain": [
       "<Figure size 800x600 with 2 Axes>"
      ]
     },
     "metadata": {},
     "output_type": "display_data"
    }
   ],
   "source": [
    "# Importation de la model GaussianNB de la bibli\n",
    "from sklearn.naive_bayes import GaussianNB\n",
    "\n",
    "\n",
    "# Répartition Train-Test\n",
    "X_train = train_dataset.iloc[:, :-1]\n",
    "X_test = test_dataset.iloc[:, :-1]\n",
    "y_train = train_dataset['labels']\n",
    "y_test = test_dataset['labels']\n",
    "\n",
    "# entrainement de model\n",
    "model = GaussianNB()\n",
    "model.fit(X_train, y_train)\n",
    "\n",
    "# Evaluation du model\n",
    "y_pred = model.predict(X_test)\n",
    "\n",
    "accuracy = accuracy_score(y_test, y_pred)\n",
    "print(f\"Accuracy: {accuracy}\")\n",
    "\n",
    "f1 = f1_score(y_test, y_pred)\n",
    "print(f\"F1 Score: {f1}\")\n",
    "\n",
    "\n",
    "# tracer la matrice de confusion\n",
    "plt.figure(figsize=(8, 6))\n",
    "sns.heatmap(confusion_matrix(y_test, y_pred), annot=True, fmt='d', cmap='Blues', \n",
    "            xticklabels=['0', '+1'], \n",
    "            yticklabels=['0', '+1'])\n",
    "plt.xlabel('Predicted Label')\n",
    "plt.ylabel('True Label')\n",
    "plt.title('Confusion Matrix')\n",
    "plt.show()"
   ]
  },
  {
   "cell_type": "code",
   "execution_count": 49,
   "id": "c660d2d2",
   "metadata": {},
   "outputs": [
    {
     "name": "stdout",
     "output_type": "stream",
     "text": [
      "              precision    recall  f1-score   support\n",
      "\n",
      "           0       0.70      0.91      0.79        56\n",
      "           1       0.81      0.50      0.62        44\n",
      "\n",
      "    accuracy                           0.73       100\n",
      "   macro avg       0.76      0.71      0.71       100\n",
      "weighted avg       0.75      0.73      0.72       100\n",
      "\n"
     ]
    }
   ],
   "source": [
    "print(classification_report(y_test, y_pred))"
   ]
  },
  {
   "cell_type": "markdown",
   "id": "69366ad5",
   "metadata": {},
   "source": [
    "### Performance comparison between the two Naive Bayesian Gaussian models:\n",
    "\n",
    "The \"naive_bayes_gaussian()\" model has a precision of 0.56 for class 0, but it fails to identify class 1 with a recall and precision of 0.00. Its overall accuracy is 0.56, indicating a limited ability to generalize for both classes.\n",
    "\n",
    "In contrast, the \"GaussianNB()\" model has a better precision for class 0 (0.70) and also manages to identify this class well with a high recall of 0.91. For class 1, its precision is 0.81 and its recall is 0.50, showing a relatively good ability to identify this class. Its overall accuracy is 0.73, indicating a better ability to generalize to both classes.\n",
    "\n",
    "In simple terms, the \"GaussianNB()\" model significantly outperforms \"naive_bayes_gaussian()\" in terms of its ability to predict and generalize for both classes, with more balanced precision and recall scores for each class and overall higher accuracy.\n",
    "\n",
    "# XGBoost model implementation for classification:\n",
    "\n",
    "XGBoost (Extreme Gradient Boosting) is an ensemble learning method that uses decision trees as base learners. More precisely, it builds an ensemble of decision trees sequentially, where each new tree attempts to correct the errors made by the previous ones.\n",
    "\n",
    "XGBoost is particularly effective with continuous numerical data. It handles numerical features well and can identify complex patterns within these types of variables.\n",
    "\n",
    "### Decision tree functions:\n",
    "\n",
    "The function calculate_entropy(y) calculates the entropy of a set of target values ​​y following the entropy formula: H(X) = −∑ni = 1p(xi)⋅log2(p(xi))"
   ]
  },
  {
   "cell_type": "code",
   "execution_count": 50,
   "id": "12ee768c",
   "metadata": {},
   "outputs": [],
   "source": [
    "def calculate_entropy(y):\n",
    "    class_counts = y.value_counts(normalize=True) \n",
    "\n",
    "    entropy = -(class_counts * np.log2(class_counts)).sum()\n",
    "    return entropy"
   ]
  },
  {
   "cell_type": "markdown",
   "id": "f70232ec",
   "metadata": {},
   "source": [
    "This split_dataset() function splits a dataset into two parts based on a specific feature and a given threshold."
   ]
  },
  {
   "cell_type": "code",
   "execution_count": 52,
   "id": "83b49fe3",
   "metadata": {},
   "outputs": [],
   "source": [
    "def split_dataset(X, y, feature_name, threshold):\n",
    "    left_indices = X[feature_name] <= threshold\n",
    "    right_indices = X[feature_name] > threshold\n",
    "\n",
    "    left_X, right_X = X[left_indices], X[right_indices]\n",
    "    left_y, right_y = y[left_indices], y[right_indices]\n",
    "\n",
    "    return left_X, right_X, left_y, right_y"
   ]
  },
  {
   "cell_type": "markdown",
   "id": "527d1d42",
   "metadata": {},
   "source": [
    "This function finds the best feature and threshold to split the data while minimizing entropy."
   ]
  },
  {
   "cell_type": "code",
   "execution_count": 53,
   "id": "aa30fe3b",
   "metadata": {},
   "outputs": [],
   "source": [
    "def find_best_split(X, y):\n",
    "    best_entropy = float('inf')\n",
    "    best_feature_name, best_threshold = None, None\n",
    "\n",
    "    for feature_name in X.columns:\n",
    "        unique_values = X[feature_name].unique()\n",
    "        for threshold in unique_values:\n",
    "            left_X, right_X, left_y, right_y = split_dataset(X, y, feature_name, threshold)\n",
    "            new_entropy = (len(left_y) * calculate_entropy(left_y) + len(right_y) * calculate_entropy(right_y)) / len(y)\n",
    "            if new_entropy < best_entropy:\n",
    "                best_entropy = new_entropy\n",
    "                best_feature_name = feature_name\n",
    "                best_threshold = threshold\n",
    "\n",
    "    return best_feature_name, best_threshold"
   ]
  },
  {
   "cell_type": "markdown",
   "id": "8a871a08",
   "metadata": {},
   "source": [
    "This grow_tree() function is responsible for recursively building a decision tree."
   ]
  },
  {
   "cell_type": "code",
   "execution_count": 54,
   "id": "c5ae7af8",
   "metadata": {},
   "outputs": [],
   "source": [
    "def grow_tree(X, y, max_depth, depth=0):\n",
    "    # stop condition stop tree growth \n",
    "    if depth >= max_depth or len(np.unique(y)) == 1:\n",
    "        return np.mean(y)\n",
    "\n",
    "    # Find the best feature and threshold to split the data at this level of the tree using the find_best_split function.\n",
    "    feature_name, threshold = find_best_split(X, y)\n",
    "    \n",
    "    # Splits the data using the best feature and threshold found.\n",
    "    left_X, right_X, left_y, right_y = split_dataset(X, y, feature_name, threshold)\n",
    "\n",
    "    # A tree dictionary is created to represent the current node in the tree.\n",
    "    tree = {}\n",
    "    tree['feature_name'] = feature_name\n",
    "    tree['threshold'] = threshold\n",
    "    \n",
    "    # The left and right subtrees, built recursively by calling grow_tree on the corresponding subsets of data.\n",
    "    tree['left'] = grow_tree(left_X, left_y, max_depth, depth + 1)\n",
    "    tree['right'] = grow_tree(right_X, right_y, max_depth, depth + 1)\n",
    "\n",
    "    # The function returns the constructed tree, represented as a dictionary.\n",
    "    return tree"
   ]
  },
  {
   "cell_type": "markdown",
   "id": "68f405f7",
   "metadata": {},
   "source": [
    "These two functions, predict_tree() and predict_single(), are used to make predictions using the decision tree constructed earlier."
   ]
  },
  {
   "cell_type": "code",
   "execution_count": 55,
   "id": "5ef4fcf9",
   "metadata": {},
   "outputs": [],
   "source": [
    "def predict_tree(x, tree):\n",
    "    feature_value = x[tree['feature_name']]\n",
    "    \n",
    "    if isinstance(feature_value, pd.Series):\n",
    "        return feature_value.apply(lambda val: predict_single(val, tree))\n",
    "    else:\n",
    "        return predict_single(feature_value, tree)\n",
    "\n",
    "def predict_single(value, tree):\n",
    "    if value <= tree['threshold']:\n",
    "        if isinstance(tree['left'], dict):\n",
    "            return predict_single(value, tree['left'])\n",
    "        else:\n",
    "            return tree['left']\n",
    "    else:\n",
    "        \n",
    "        if isinstance(tree['right'], dict):\n",
    "            return predict_single(value, tree['right'])\n",
    "        else:\n",
    "            return tree['right']"
   ]
  },
  {
   "cell_type": "markdown",
   "id": "79d433e1",
   "metadata": {},
   "source": [
    "### XGBoost functions:\n",
    "\n",
    "This function calculate_gradient() is used in the context of the boosting algorithm to calculate the gradients of the predictions."
   ]
  },
  {
   "cell_type": "code",
   "execution_count": 56,
   "id": "0f9ad448",
   "metadata": {},
   "outputs": [],
   "source": [
    "def calculate_gradient(y_true, y_pred):\n",
    "    return -(y_true - y_pred)"
   ]
  },
  {
   "cell_type": "markdown",
   "id": "6c28c929",
   "metadata": {},
   "source": [
    "This fit_tree(X, residuals, max_depth) function uses the grow_tree() function to fit a tree from the provided residuals to a specified maximum depth."
   ]
  },
  {
   "cell_type": "code",
   "execution_count": 57,
   "id": "0e62276f",
   "metadata": {},
   "outputs": [],
   "source": [
    "def fit_tree(X, residuals, max_depth):\n",
    "    return grow_tree(X, residuals, max_depth)"
   ]
  },
  {
   "cell_type": "markdown",
   "id": "c2d5fed5",
   "metadata": {},
   "source": [
    "This function implements a boosting process where each new tree is trained to correct the residual errors left by the previous model. Then, the global model is updated by progressively adding the predictions of each new tree, weighted by the learning rate."
   ]
  },
  {
   "cell_type": "code",
   "execution_count": 58,
   "id": "c42fefc9",
   "metadata": {},
   "outputs": [],
   "source": [
    "def fit(X, y, n_estimators=7, learning_rate=0.1, max_depth=2):\n",
    "    trees = []\n",
    "\n",
    "    y_pred = np.zeros_like(y)\n",
    "    for _ in range(n_estimators):\n",
    "        residuals = calculate_gradient(y, y_pred)\n",
    "        tree = fit_tree(X, residuals, max_depth)\n",
    "        update = predict_tree(X, tree)\n",
    "        y_pred += learning_rate * update\n",
    "        trees.append(tree)\n",
    "\n",
    "    return trees"
   ]
  },
  {
   "cell_type": "markdown",
   "id": "7b0c9fe5",
   "metadata": {},
   "source": [
    "This function predict(X, trees, learning_rate) is used to make predictions using the trained boosting model.\n",
    "\n",
    "This function combines the predictions of each trained tree in the boosting model, weighting them by the learning rate, to obtain the final prediction of the overall model on the data X."
   ]
  },
  {
   "cell_type": "code",
   "execution_count": 59,
   "id": "84ca0305",
   "metadata": {},
   "outputs": [],
   "source": [
    "def predict(X, trees, learning_rate):\n",
    "    y_pred = np.zeros(len(X))\n",
    "    \n",
    "    for tree in trees:\n",
    "        y_pred += learning_rate * predict_tree(X, tree)\n",
    "\n",
    "    return np.round(y_pred)"
   ]
  },
  {
   "cell_type": "markdown",
   "id": "297a198a",
   "metadata": {},
   "source": [
    "This XGBoost_classifier() function uses the previously defined functions to train a simplified XGBoost-like model and to predict on a test dataset."
   ]
  },
  {
   "cell_type": "code",
   "execution_count": 60,
   "id": "0ecf0c94",
   "metadata": {},
   "outputs": [],
   "source": [
    "def XGBoost_classifier(X_train, y_train, X_test, n_estimators=7, learning_rate=0.1, max_depth=2):\n",
    "    trees = fit(X_train, y_train, n_estimators, learning_rate, max_depth)\n",
    "    y_pred = predict(X_test, trees, learning_rate)\n",
    "    return np.abs(y_pred)"
   ]
  },
  {
   "cell_type": "markdown",
   "id": "2039b3e2",
   "metadata": {},
   "source": [
    "#### Data Splitting:"
   ]
  },
  {
   "cell_type": "code",
   "execution_count": 86,
   "id": "2a19a2f6",
   "metadata": {},
   "outputs": [],
   "source": [
    "# Répartition Train-Test\n",
    "X_train = train_dataset.iloc[:, :-1]\n",
    "X_test = test_dataset.iloc[:, :-1]\n",
    "y_train = train_dataset['labels']\n",
    "y_test = test_dataset['labels']"
   ]
  },
  {
   "cell_type": "markdown",
   "id": "42eb8feb",
   "metadata": {},
   "source": [
    "#### Entraînement du modèle et Prédiction sur les données de test:"
   ]
  },
  {
   "cell_type": "code",
   "execution_count": 91,
   "id": "87bcf751",
   "metadata": {},
   "outputs": [],
   "source": [
    "y_pred = XGBoost_classifier(X_train, y_train, X_test, n_estimators=7, learning_rate=0.1, max_depth=2)"
   ]
  },
  {
   "cell_type": "markdown",
   "id": "c40a1d19",
   "metadata": {},
   "source": [
    "#### Model Evaluation:"
   ]
  },
  {
   "cell_type": "code",
   "execution_count": 92,
   "id": "f7330012",
   "metadata": {
    "scrolled": false
   },
   "outputs": [
    {
     "name": "stdout",
     "output_type": "stream",
     "text": [
      "Accuracy: 0.56\n",
      "F1 Score: 0.0\n"
     ]
    },
    {
     "data": {
      "image/png": "[encoded data removed]",
      "text/plain": [
       "<Figure size 800x600 with 2 Axes>"
      ]
     },
     "metadata": {},
     "output_type": "display_data"
    }
   ],
   "source": [
    "accuracy = accuracy_score(y_test, y_pred)\n",
    "print(f\"Accuracy: {accuracy}\")\n",
    "\n",
    "f1 = f1_score(y_test, y_pred)\n",
    "print(f\"F1 Score: {f1}\")\n",
    "\n",
    "plt.figure(figsize=(8, 6))\n",
    "sns.heatmap(confusion_matrix(y_test, y_pred), annot=True, fmt='d', cmap='Blues', \n",
    "            xticklabels=['0', '+1'], \n",
    "            yticklabels=['0', '+1'])\n",
    "plt.xlabel('Predicted Label')\n",
    "plt.ylabel('True Label')\n",
    "plt.title('Confusion Matrix')\n",
    "plt.show()"
   ]
  },
  {
   "cell_type": "code",
   "execution_count": 95,
   "id": "89c74829",
   "metadata": {},
   "outputs": [
    {
     "name": "stdout",
     "output_type": "stream",
     "text": [
      "              precision    recall  f1-score   support\n",
      "\n",
      "           0       0.56      1.00      0.72        56\n",
      "           1       0.00      0.00      0.00        44\n",
      "\n",
      "    accuracy                           0.56       100\n",
      "   macro avg       0.28      0.50      0.36       100\n",
      "weighted avg       0.31      0.56      0.40       100\n",
      "\n"
     ]
    }
   ],
   "source": [
    "print(classification_report(y_test, y_pred))"
   ]
  },
  {
   "cell_type": "markdown",
   "id": "bb2d4a45",
   "metadata": {},
   "source": [
    "Pour evalue bien notre model on fait l'entrainement sur le train_dataset uniqement est on separer le dataset avec train_test_split de sklearn."
   ]
  },
  {
   "cell_type": "code",
   "execution_count": 103,
   "id": "dd779778",
   "metadata": {},
   "outputs": [],
   "source": [
    "\n",
    "dataset = pd.read_csv('dataset_minimiser.csv')\n",
    "X = dataset.iloc[:,:-1]\n",
    "y = dataset['labels']\n",
    "X_train, X_test, y_train, y_test = train_test_split(X, y, test_size=0.2, random_state=42)"
   ]
  },
  {
   "cell_type": "code",
   "execution_count": 104,
   "id": "21370208",
   "metadata": {},
   "outputs": [],
   "source": [
    "y_pred = XGBoost_classifier(X_train, y_train, X_test, n_estimators=7, learning_rate=0.1, max_depth=2)"
   ]
  },
  {
   "cell_type": "code",
   "execution_count": 105,
   "id": "e065cdae",
   "metadata": {},
   "outputs": [
    {
     "name": "stdout",
     "output_type": "stream",
     "text": [
      "Accuracy: 0.55\n",
      "F1 Score: 0.6666666666666667\n"
     ]
    },
    {
     "data": {
      "image/png": "[encoded data removed]",
      "text/plain": [
       "<Figure size 800x600 with 2 Axes>"
      ]
     },
     "metadata": {},
     "output_type": "display_data"
    }
   ],
   "source": [
    "accuracy = accuracy_score(y_test, y_pred)\n",
    "print(f\"Accuracy: {accuracy}\")\n",
    "\n",
    "f1 = f1_score(y_test, y_pred)\n",
    "print(f\"F1 Score: {f1}\")\n",
    "\n",
    "plt.figure(figsize=(8, 6))\n",
    "sns.heatmap(confusion_matrix(y_test, y_pred), annot=True, fmt='d', cmap='Blues', \n",
    "            xticklabels=['0', '+1'], \n",
    "            yticklabels=['0', '+1'])\n",
    "plt.xlabel('Predicted Label')\n",
    "plt.ylabel('True Label')\n",
    "plt.title('Confusion Matrix')\n",
    "plt.show()"
   ]
  },
  {
   "cell_type": "code",
   "execution_count": 106,
   "id": "064b13bb",
   "metadata": {},
   "outputs": [
    {
     "name": "stdout",
     "output_type": "stream",
     "text": [
      "              precision    recall  f1-score   support\n",
      "\n",
      "           0       0.67      0.20      0.31        10\n",
      "           1       0.53      0.90      0.67        10\n",
      "\n",
      "    accuracy                           0.55        20\n",
      "   macro avg       0.60      0.55      0.49        20\n",
      "weighted avg       0.60      0.55      0.49        20\n",
      "\n"
     ]
    }
   ],
   "source": [
    "print(classification_report(y_test, y_pred))"
   ]
  },
  {
   "cell_type": "markdown",
   "id": "1c67f820",
   "metadata": {},
   "source": [
    "# Implementation of an XGBoost model for binary classification using Python and the XGBoost library:"
   ]
  },
  {
   "cell_type": "code",
   "execution_count": 83,
   "id": "390c8131",
   "metadata": {},
   "outputs": [],
   "source": [
    "X_train = train_dataset.iloc[:, :-1]\n",
    "X_test = test_dataset.iloc[:, :-1]\n",
    "y_train = train_dataset['labels']\n",
    "y_test = test_dataset['labels']\n",
    "\n",
    "model = xgb.XGBClassifier(learning_rate=0.2, n_estimators=100, max_depth=3)\n",
    "\n",
    "model.fit(X_train, y_train)\n",
    "\n",
    "y_pred = model.predict(X_test)"
   ]
  },
  {
   "cell_type": "code",
   "execution_count": 84,
   "id": "a80283fe",
   "metadata": {},
   "outputs": [
    {
     "name": "stdout",
     "output_type": "stream",
     "text": [
      "Accuracy: 0.71\n",
      "F1 Score: 0.6233766233766234\n"
     ]
    },
    {
     "data": {
      "image/png": "[encoded data removed]",
      "text/plain": [
       "<Figure size 640x480 with 2 Axes>"
      ]
     },
     "metadata": {},
     "output_type": "display_data"
    }
   ],
   "source": [
    "accuracy = accuracy_score(y_test, y_pred)\n",
    "print(f\"Accuracy: {accuracy}\")\n",
    "\n",
    "f1 = f1_score(y_test, y_pred)\n",
    "print(f\"F1 Score: {f1}\")\n",
    "\n",
    "sns.heatmap(confusion_matrix(y_test, y_pred), annot=True, fmt='d', cmap='Blues', \n",
    "            xticklabels=['0', '+1'], \n",
    "            yticklabels=['0', '+1'])\n",
    "plt.xlabel('Predicted Label')\n",
    "plt.ylabel('True Label')\n",
    "plt.title('Confusion Matrix')\n",
    "plt.show()"
   ]
  },
  {
   "cell_type": "code",
   "execution_count": 85,
   "id": "045a7ff7",
   "metadata": {},
   "outputs": [
    {
     "name": "stdout",
     "output_type": "stream",
     "text": [
      "              precision    recall  f1-score   support\n",
      "\n",
      "           0       0.70      0.84      0.76        56\n",
      "           1       0.73      0.55      0.62        44\n",
      "\n",
      "    accuracy                           0.71       100\n",
      "   macro avg       0.71      0.69      0.69       100\n",
      "weighted avg       0.71      0.71      0.70       100\n",
      "\n"
     ]
    }
   ],
   "source": [
    "print(classification_report(y_test, y_pred))"
   ]
  },
  {
   "cell_type": "markdown",
   "id": "43d16806",
   "metadata": {},
   "source": [
    "### Performance comparison between the two XGBoost models:\n",
    "\n",
    "The XGBoost_classifier() model shows lower accuracy and recall scores for both classes compared to the Python library xgboost() model. For class 0, the \"xgboost()\" model shows better accuracy and recall (0.70 and 0.84 respectively) compared to the XGBoost_classifier() model (0.67 and 0.20 respectively). Similarly, for class 1, the xgboost() model gets better accuracy and recall scores (0.73 and 0.55 respectively) compared to the XGBoost_classifier() model (0.53 and 0.90 respectively).\n",
    "\n",
    "In summary, the Python \"xgboost()\" model seems better balanced, with better prediction capabilities for both classes, leading to better overall accuracy and better ability to generalize over the data.\n",
    "\n",
    "## Performance comparison between the two models Gaussian vs XGBoost:\n",
    "\n",
    "The Gaussian model has an accuracy of 0.50 for class 0, which means that it correctly identifies half of the elements belonging to this class, but it has no recall for class 1, which indicates that it could not correctly identify a single element of this class. As a result, its f1-score for class 1 is 0.00. Overall, the accuracy of the model is 0.50.\n",
    "\n",
    "On the other hand, the XGBoost model has a higher accuracy for class 1 (0.53) compared to the Gaussian model, but has a lower recall for class 0 (0.20 vs. 1.00 for the Gaussian model). The accuracy of the XGBoost model is 0.55.\n",
    "\n",
    "In general, we can say that XGBoost is the best model for this type of dataset."
   ]
  }
 ],
 "metadata": {
  "kernelspec": {
   "display_name": "Python 3 (ipykernel)",
   "language": "python",
   "name": "python3"
  },
  "language_info": {
   "codemirror_mode": {
    "name": "ipython",
    "version": 3
   },
   "file_extension": ".py",
   "mimetype": "text/x-python",
   "name": "python",
   "nbconvert_exporter": "python",
   "pygments_lexer": "ipython3",
   "version": "3.12.2"
  }
 },
 "nbformat": 4,
 "nbformat_minor": 5
}
